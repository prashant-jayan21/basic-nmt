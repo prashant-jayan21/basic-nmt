{
 "cells": [
  {
   "cell_type": "code",
   "execution_count": 1,
   "metadata": {},
   "outputs": [
    {
     "name": "stderr",
     "output_type": "stream",
     "text": [
      "/Users/prashant/anaconda3/lib/python3.6/importlib/_bootstrap.py:205: RuntimeWarning: compiletime version 3.5 of module 'tensorflow.python.framework.fast_tensor_util' does not match runtime version 3.6\n",
      "  return f(*args, **kwds)\n"
     ]
    }
   ],
   "source": [
    "%matplotlib inline\n",
    "\n",
    "import matplotlib.pyplot as plt\n",
    "import numpy as np\n",
    "from os.path import exists\n",
    "import tensorflow as tf\n",
    "from tensorflow.python.layers import core as layers_core\n",
    "\n",
    "tf.reset_default_graph()\n",
    "sess = tf.InteractiveSession()"
   ]
  },
  {
   "cell_type": "code",
   "execution_count": 2,
   "metadata": {},
   "outputs": [
    {
     "data": {
      "text/plain": [
       "'1.4.0'"
      ]
     },
     "execution_count": 2,
     "metadata": {},
     "output_type": "execute_result"
    }
   ],
   "source": [
    "tf.__version__"
   ]
  },
  {
   "cell_type": "code",
   "execution_count": 3,
   "metadata": {},
   "outputs": [
    {
     "name": "stdout",
     "output_type": "stream",
     "text": [
      "Tensor(\"encoder_inputs:0\", shape=(?, ?), dtype=int32)\n",
      "Tensor(\"strided_slice:0\", shape=(), dtype=int32)\n",
      "Tensor(\"source_sequence_length:0\", shape=(?,), dtype=int32)\n"
     ]
    },
    {
     "data": {
      "text/plain": [
       "<tf.Tensor 'embedding_lookup:0' shape=(?, ?, 300) dtype=float32>"
      ]
     },
     "execution_count": 3,
     "metadata": {},
     "output_type": "execute_result"
    }
   ],
   "source": [
    "# Encoder embedding\n",
    "\n",
    "# Embedding encoder/matrix\n",
    "src_vocab_size = 1000 # hparam\n",
    "src_embedding_size = 300 # hparam\n",
    "\n",
    "embedding_encoder = tf.get_variable(\n",
    "    \"embedding_encoder\",\n",
    "    [src_vocab_size, src_embedding_size]) # just the embedding matrix # TODO: check tutorial for more\n",
    "\n",
    "# Look up embedding:\n",
    "encoder_inputs = tf.placeholder(shape=(None, None), dtype=tf.int32, name='encoder_inputs') # [max_encoder_time, batch_size]\n",
    "print(encoder_inputs)\n",
    "batch_size = tf.shape(encoder_inputs)[1]\n",
    "print(batch_size)\n",
    "source_sequence_length = tf.placeholder(shape=(None,), dtype=tf.int32, name='source_sequence_length') # batch_size\n",
    "print(source_sequence_length)\n",
    "\n",
    "encoder_emb_inp = tf.nn.embedding_lookup(\n",
    "    embedding_encoder, encoder_inputs) # [max_encoder_time, batch_size, src_embedding_size]\n",
    "encoder_emb_inp"
   ]
  },
  {
   "cell_type": "code",
   "execution_count": 4,
   "metadata": {},
   "outputs": [
    {
     "data": {
      "text/plain": [
       "LSTMStateTuple(c=<tf.Tensor 'rnn/while/Exit_2:0' shape=(?, 32) dtype=float32>, h=<tf.Tensor 'rnn/while/Exit_3:0' shape=(?, 32) dtype=float32>)"
      ]
     },
     "execution_count": 4,
     "metadata": {},
     "output_type": "execute_result"
    }
   ],
   "source": [
    "# Encoder\n",
    "\n",
    "encoder_hidden_units = 32 # hparam\n",
    "encoder_cell = tf.nn.rnn_cell.BasicLSTMCell(encoder_hidden_units) # hparam\n",
    "\n",
    "encoder_outputs, encoder_final_state = tf.nn.dynamic_rnn(\n",
    "    encoder_cell, encoder_emb_inp,\n",
    "    sequence_length=source_sequence_length, dtype=tf.float32, time_major=True)\n",
    "\n",
    "encoder_final_state"
   ]
  },
  {
   "cell_type": "code",
   "execution_count": 5,
   "metadata": {},
   "outputs": [
    {
     "name": "stdout",
     "output_type": "stream",
     "text": [
      "Tensor(\"decoder_inputs:0\", shape=(?, ?), dtype=int32)\n",
      "Tensor(\"target_sequence_length:0\", shape=(?,), dtype=int32)\n"
     ]
    },
    {
     "data": {
      "text/plain": [
       "<tf.Tensor 'embedding_lookup_1:0' shape=(?, ?, 300) dtype=float32>"
      ]
     },
     "execution_count": 5,
     "metadata": {},
     "output_type": "execute_result"
    }
   ],
   "source": [
    "# Decoder embedding\n",
    "\n",
    "# Embedding decoder/matrix\n",
    "tgt_vocab_size = 1000 # hparam\n",
    "tgt_embedding_size = 300 # hparam\n",
    "\n",
    "embedding_decoder = tf.get_variable(\n",
    "    \"embedding_decoder\",\n",
    "    [tgt_vocab_size, tgt_embedding_size]) # just the embedding matrix # TODO: check tutorial for more\n",
    "\n",
    "# Look up embedding:\n",
    "decoder_inputs = tf.placeholder(shape=(None, None), dtype=tf.int32, name='decoder_inputs') # [max_decoder_time, batch_size]\n",
    "print(decoder_inputs)\n",
    "target_sequence_length = tf.placeholder(shape=(None,), dtype=tf.int32, name='target_sequence_length') # batch_size\n",
    "print(target_sequence_length)\n",
    "\n",
    "decoder_emb_inp = tf.nn.embedding_lookup(\n",
    "    embedding_decoder, decoder_inputs) # [max_decoder_time, batch_size, src_embedding_size]\n",
    "decoder_emb_inp"
   ]
  },
  {
   "cell_type": "code",
   "execution_count": 6,
   "metadata": {},
   "outputs": [
    {
     "name": "stdout",
     "output_type": "stream",
     "text": [
      "BasicDecoderOutput(rnn_output=<tf.Tensor 'decoder/TensorArrayStack/TensorArrayGatherV3:0' shape=(?, ?, 1000) dtype=float32>, sample_id=<tf.Tensor 'decoder/TensorArrayStack_1/TensorArrayGatherV3:0' shape=(?, ?) dtype=int32>)\n",
      "LSTMStateTuple(c=<tf.Tensor 'decoder/while/Exit_3:0' shape=(?, 32) dtype=float32>, h=<tf.Tensor 'decoder/while/Exit_4:0' shape=(?, 32) dtype=float32>)\n",
      "Tensor(\"decoder/while/Exit_7:0\", shape=(?,), dtype=int32)\n"
     ]
    },
    {
     "data": {
      "text/plain": [
       "<tf.Tensor 'decoder/TensorArrayStack/TensorArrayGatherV3:0' shape=(?, ?, 1000) dtype=float32>"
      ]
     },
     "execution_count": 6,
     "metadata": {},
     "output_type": "execute_result"
    }
   ],
   "source": [
    "# Decoder\n",
    "\n",
    "decoder_hidden_units = encoder_hidden_units # hparam\n",
    "decoder_cell = tf.nn.rnn_cell.BasicLSTMCell(decoder_hidden_units) # hparam\n",
    "\n",
    "training_helper = tf.contrib.seq2seq.TrainingHelper(\n",
    "    decoder_emb_inp, target_sequence_length, time_major=True) # helper # TODO: check tutorial for more\n",
    "\n",
    "projection_layer = layers_core.Dense(\n",
    "    tgt_vocab_size, use_bias=False)\n",
    "\n",
    "decoder = tf.contrib.seq2seq.BasicDecoder(\n",
    "    decoder_cell, training_helper, encoder_final_state,\n",
    "    output_layer=projection_layer) # decoder\n",
    "\n",
    "final_outputs, final_decoder_state, final_sequence_lengths = tf.contrib.seq2seq.dynamic_decode(\n",
    "    decoder, output_time_major=True, impute_finished=True) # dynamic decoding # TODO: check tutorial for more \n",
    "\n",
    "print(final_outputs)\n",
    "print(final_decoder_state)\n",
    "print(final_sequence_lengths)\n",
    "\n",
    "decoder_logits_train = final_outputs.rnn_output\n",
    "\n",
    "decoder_logits_train"
   ]
  },
  {
   "cell_type": "code",
   "execution_count": 7,
   "metadata": {},
   "outputs": [],
   "source": [
    "# Loss\n",
    "\n",
    "decoder_targets = tf.placeholder(shape=(None, None), dtype=tf.int32, name='decoder_targets') # [max_decoder_time, batch_size]\n",
    "\n",
    "target_weights = tf.placeholder(shape=(None, None), dtype=tf.float32, name='target_weights') # [max_decoder_time, batch_size]\n",
    "\n",
    "crossent = tf.nn.sparse_softmax_cross_entropy_with_logits(labels=decoder_targets, logits=decoder_logits_train)\n",
    "train_loss = (tf.reduce_sum(crossent * target_weights) / tf.cast(batch_size, dtype=tf.float32))"
   ]
  },
  {
   "cell_type": "code",
   "execution_count": 8,
   "metadata": {},
   "outputs": [
    {
     "name": "stdout",
     "output_type": "stream",
     "text": [
      "[<tf.Variable 'embedding_encoder:0' shape=(1000, 300) dtype=float32_ref>, <tf.Variable 'rnn/basic_lstm_cell/kernel:0' shape=(332, 128) dtype=float32_ref>, <tf.Variable 'rnn/basic_lstm_cell/bias:0' shape=(128,) dtype=float32_ref>, <tf.Variable 'embedding_decoder:0' shape=(1000, 300) dtype=float32_ref>, <tf.Variable 'decoder/basic_lstm_cell/kernel:0' shape=(332, 128) dtype=float32_ref>, <tf.Variable 'decoder/basic_lstm_cell/bias:0' shape=(128,) dtype=float32_ref>, <tf.Variable 'decoder/dense/kernel:0' shape=(32, 1000) dtype=float32_ref>]\n"
     ]
    }
   ],
   "source": [
    "# Calculate and clip gradients\n",
    "\n",
    "params = tf.trainable_variables()\n",
    "print(params)\n",
    "\n",
    "gradients = tf.gradients(train_loss, params)\n",
    "\n",
    "max_gradient_norm = 5 # max_gradient_norm, is often set to a value like 5 or 1 # hparam\n",
    "clipped_gradients, _ = tf.clip_by_global_norm(\n",
    "    gradients, max_gradient_norm)"
   ]
  },
  {
   "cell_type": "code",
   "execution_count": 9,
   "metadata": {
    "collapsed": true
   },
   "outputs": [],
   "source": [
    "# Optimization\n",
    "\n",
    "learning_rate = 0.001 # hparam # learning_rate is usually in the range 0.0001 to 0.001\n",
    "optimizer = tf.train.AdamOptimizer(learning_rate)\n",
    "update_step = optimizer.apply_gradients(\n",
    "    zip(clipped_gradients, params))"
   ]
  },
  {
   "cell_type": "code",
   "execution_count": 10,
   "metadata": {},
   "outputs": [
    {
     "data": {
      "text/plain": [
       "<tf.Tensor 'decoder_1/TensorArrayStack_1/TensorArrayGatherV3:0' shape=(?, ?) dtype=int32>"
      ]
     },
     "execution_count": 10,
     "metadata": {},
     "output_type": "execute_result"
    }
   ],
   "source": [
    "# Inference\n",
    "\n",
    "tgt_sos_id = -1 # TODO: check tutorial for more \n",
    "tgt_eos_id = -2 # TODO: check tutorial for more \n",
    "inf_helper = tf.contrib.seq2seq.GreedyEmbeddingHelper(\n",
    "    embedding_decoder,\n",
    "    tf.fill([batch_size], tgt_sos_id), tgt_eos_id) # helper\n",
    "\n",
    "inference_decoder = tf.contrib.seq2seq.BasicDecoder(\n",
    "    decoder_cell, inf_helper, encoder_final_state,\n",
    "    output_layer=projection_layer) # decoder\n",
    "\n",
    "maximum_iterations = tf.round(tf.reduce_max(source_sequence_length) * 2) # one heuristic is to decode up to two times the source sentence lengths\n",
    "final_outputs_test, final_decoder_state_test, final_sequence_lengths_test = tf.contrib.seq2seq.dynamic_decode(\n",
    "    inference_decoder, output_time_major=True, impute_finished=True,\n",
    "    maximum_iterations=maximum_iterations) # dynamic decoding # TODO: check tutorial for more \n",
    "\n",
    "translations_test = final_outputs_test.sample_id\n",
    "translations_test"
   ]
  },
  {
   "cell_type": "code",
   "execution_count": null,
   "metadata": {
    "collapsed": true
   },
   "outputs": [],
   "source": []
  }
 ],
 "metadata": {
  "kernelspec": {
   "display_name": "Python 3",
   "language": "python",
   "name": "python3"
  },
  "language_info": {
   "codemirror_mode": {
    "name": "ipython",
    "version": 3
   },
   "file_extension": ".py",
   "mimetype": "text/x-python",
   "name": "python",
   "nbconvert_exporter": "python",
   "pygments_lexer": "ipython3",
   "version": "3.6.2"
  }
 },
 "nbformat": 4,
 "nbformat_minor": 2
}
